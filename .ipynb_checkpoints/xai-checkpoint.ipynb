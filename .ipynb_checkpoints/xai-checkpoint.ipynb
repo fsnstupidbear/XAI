{
 "cells": [
  {
   "cell_type": "code",
   "execution_count": 6,
   "metadata": {
    "pycharm": {
     "name": "#%%\n"
    }
   },
   "outputs": [
    {
     "ename": "ImportError",
     "evalue": "matplotlib is not installed so plotting is not available! Run `pip install matplotlib` to fix this.",
     "output_type": "error",
     "traceback": [
      "\u001b[1;31m---------------------------------------------------------------------------\u001b[0m",
      "\u001b[1;31mImportError\u001b[0m                               Traceback (most recent call last)",
      "Cell \u001b[1;32mIn[6], line 33\u001b[0m\n\u001b[0;32m     30\u001b[0m shap_values \u001b[38;5;241m=\u001b[39m explainer(X_test)\n\u001b[0;32m     32\u001b[0m \u001b[38;5;66;03m# 可视化第一个样本的SHAP值（例如）\u001b[39;00m\n\u001b[1;32m---> 33\u001b[0m \u001b[43mshap\u001b[49m\u001b[38;5;241;43m.\u001b[39;49m\u001b[43mplots\u001b[49m\u001b[38;5;241;43m.\u001b[39;49m\u001b[43mwaterfall\u001b[49m(shap_values[\u001b[38;5;241m0\u001b[39m])\n\u001b[0;32m     35\u001b[0m \u001b[38;5;66;03m# 保存SHAP值到DataFrame（可选）\u001b[39;00m\n\u001b[0;32m     36\u001b[0m \u001b[38;5;66;03m# 注意：shap_values.values 返回一个数组，其中包含了测试集每个样本的SHAP值\u001b[39;00m\n\u001b[0;32m     37\u001b[0m shap_values_df \u001b[38;5;241m=\u001b[39m pd\u001b[38;5;241m.\u001b[39mDataFrame(shap_values\u001b[38;5;241m.\u001b[39mvalues, columns\u001b[38;5;241m=\u001b[39mX_test\u001b[38;5;241m.\u001b[39mcolumns)\n",
      "File \u001b[1;32mD:\\SoftWare\\anaconda\\envs\\XAI\\lib\\site-packages\\shap\\__init__.py:32\u001b[0m, in \u001b[0;36mUnsupportedModule.__getattribute__\u001b[1;34m(self, item)\u001b[0m\n\u001b[0;32m     31\u001b[0m \u001b[38;5;28;01mdef\u001b[39;00m \u001b[38;5;21m__getattribute__\u001b[39m(\u001b[38;5;28mself\u001b[39m, item):\n\u001b[1;32m---> 32\u001b[0m     \u001b[38;5;28;01mraise\u001b[39;00m \u001b[38;5;167;01mImportError\u001b[39;00m(_no_matplotlib_warning)\n",
      "\u001b[1;31mImportError\u001b[0m: matplotlib is not installed so plotting is not available! Run `pip install matplotlib` to fix this."
     ]
    }
   ],
   "source": [
    "from sklearn.cluster import KMeans\n",
    "import pandas as pd\n",
    "import shap\n",
    "import matplotlib\n",
    "\n",
    "from sklearn.linear_model import LinearRegression\n",
    "\n",
    "train_data = pd.read_csv('train_pts.csv')\n",
    "test_data = pd.read_csv('test_pts.csv')\n",
    "\n",
    "# 定义特征和标签\n",
    "X_train = train_data.drop(columns='y')\n",
    "y_train = train_data['y']\n",
    "X_test = test_data.drop(columns='y')\n",
    "y_test = test_data['y']\n",
    "\n",
    "# 再次确认数据加载正确\n",
    "train_data.head(), test_data.head()\n",
    "\n",
    "# 训练线性回归模型\n",
    "linear_model = LinearRegression()\n",
    "linear_model.fit(X_train, y_train)\n",
    "\n",
    "\n",
    "\n",
    "# 初始化SHAP解释器\n",
    "explainer = shap.Explainer(linear_model, X_train)\n",
    "\n",
    "# 计算测试集的SHAP值\n",
    "shap_values = explainer(X_test)\n",
    "\n",
    "# 可视化第一个样本的SHAP值（例如）\n",
    "shap.plots.waterfall(shap_values[0])\n",
    "\n",
    "# 保存SHAP值到DataFrame（可选）\n",
    "# 注意：shap_values.values 返回一个数组，其中包含了测试集每个样本的SHAP值\n",
    "shap_values_df = pd.DataFrame(shap_values.values, columns=X_test.columns)\n",
    "\n",
    "# 如果您希望将SHAP值保存到CSV文件\n",
    "shap_values_csv_path = 'shap_values.csv'\n",
    "shap_values_df.to_csv(shap_values_csv_path, index=False)\n",
    "print(f\"SHAP值已保存到 {shap_values_csv_path}\")\n",
    "\n",
    "\n",
    "# 获取线性模型的系数，这些系数可以视为特征重要性\n",
    "linear_coef = linear_model.coef_\n",
    "#\n",
    "# # 计算测试集中每个样本的特征重要性向量\n",
    "# # 在线性模型中，这可以通过特征值乘以系数来近似\n",
    "# feature_importances_vectors = X_test * linear_coef\n",
    "#\n",
    "# # 将计算出的特征重要性向量转换为DataFrame，以便保存到CSV\n",
    "# feature_importances_df = pd.DataFrame(feature_importances_vectors, columns=X_test.columns)\n",
    "#\n",
    "# # 保存特征重要性向量到CSV文件\n",
    "# output_csv_path = 'feature_importance_vectors.csv'\n",
    "# feature_importances_df.to_csv(output_csv_path, index=False)\n",
    "#\n",
    "# print(f\"特征重要性向量已保存到 {output_csv_path}\")"
   ]
  },
  {
   "cell_type": "code",
   "execution_count": null,
   "metadata": {
    "collapsed": false,
    "jupyter": {
     "outputs_hidden": false
    },
    "pycharm": {
     "name": "#%%\n"
    }
   },
   "outputs": [],
   "source": [
    "# 用线性模型的系数进行聚类\n",
    "# 由于系数是一维的，我们需要将它们转换为二维的数据结构以便于聚类\n",
    "kmeans = KMeans(n_clusters=3, random_state=42)\n",
    "coef_clusters = kmeans.fit_predict(linear_coef.reshape(-1, 1))\n",
    "\n",
    "# 创建一个DataFrame来保存特征、对应的系数以及聚类结果\n",
    "linear_features_df = pd.DataFrame({\n",
    "    'Feature': X_train.columns,\n",
    "    'Coefficient': linear_coef,\n",
    "    'Cluster': coef_clusters\n",
    "})\n",
    "\n",
    "# 输出线性模型的系数和聚类结果\n",
    "linear_features_df"
   ]
  },
  {
   "cell_type": "code",
   "execution_count": 7,
   "metadata": {
    "collapsed": false,
    "jupyter": {
     "outputs_hidden": false
    },
    "pycharm": {
     "name": "#%%\n"
    }
   },
   "outputs": [],
   "source": []
  }
 ],
 "metadata": {
  "kernelspec": {
   "display_name": "Python 3 (ipykernel)",
   "language": "python",
   "name": "python3"
  },
  "language_info": {
   "codemirror_mode": {
    "name": "ipython",
    "version": 3
   },
   "file_extension": ".py",
   "mimetype": "text/x-python",
   "name": "python",
   "nbconvert_exporter": "python",
   "pygments_lexer": "ipython3",
   "version": "3.10.13"
  }
 },
 "nbformat": 4,
 "nbformat_minor": 4
}
